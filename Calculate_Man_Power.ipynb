{
 "cells": [
  {
   "cell_type": "code",
   "execution_count": 4,
   "id": "fbc16477",
   "metadata": {},
   "outputs": [],
   "source": [
    "import pandas as pd\n",
    "import numpy as np\n",
    "manpower_requirements = {\n",
    "    'SMS': 0.02,  \n",
    "    'Calling': 0.20,\n",
    "    'Notice': 1,\n",
    "    'Direct_Visit': 2\n",
    "}"
   ]
  },
  {
   "cell_type": "markdown",
   "id": "e9fc9085",
   "metadata": {},
   "source": [
    "#### Man power required for the actions given by the prescriptive model.\n",
    "#### If you dont have the said manpower enter the available manpower in the boxes above to reassign th actions within limit"
   ]
  },
  {
   "cell_type": "code",
   "execution_count": 5,
   "id": "e906c534",
   "metadata": {},
   "outputs": [
    {
     "name": "stdout",
     "output_type": "stream",
     "text": [
      "zone\n",
      "East     123.80\n",
      "North    177.00\n",
      "South    139.85\n",
      "West     161.40\n",
      "Name: manpower_required, dtype: float64\n"
     ]
    }
   ],
   "source": [
    "df = pd.read_csv('final_oms_data.csv') \n",
    "df['manpower_required'] = df.apply(lambda row: manpower_requirements[row['best_action']], axis=1)\n",
    "original_manpower_by_zone = df.groupby('zone')['manpower_required'].sum()\n",
    "print(original_manpower_by_zone)"
   ]
  },
  {
   "cell_type": "code",
   "execution_count": null,
   "id": "052b4581",
   "metadata": {},
   "outputs": [],
   "source": []
  }
 ],
 "metadata": {
  "kernelspec": {
   "display_name": "Python 3 (ipykernel)",
   "language": "python",
   "name": "python3"
  },
  "language_info": {
   "codemirror_mode": {
    "name": "ipython",
    "version": 3
   },
   "file_extension": ".py",
   "mimetype": "text/x-python",
   "name": "python",
   "nbconvert_exporter": "python",
   "pygments_lexer": "ipython3",
   "version": "3.11.2"
  }
 },
 "nbformat": 4,
 "nbformat_minor": 5
}
