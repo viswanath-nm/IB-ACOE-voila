{
 "cells": [
  {
   "cell_type": "code",
   "execution_count": 117,
   "id": "5ecd2e5e",
   "metadata": {},
   "outputs": [],
   "source": [
    "from sklearn.preprocessing import StandardScaler\n",
    "import pandas as pd\n",
    "import numpy as np\n",
    "import matplotlib.pyplot as plt\n",
    "import seaborn as sns"
   ]
  },
  {
   "cell_type": "code",
   "execution_count": 118,
   "id": "8fe9b96f",
   "metadata": {},
   "outputs": [],
   "source": [
    "df=pd.read_csv(\"synthetic_data_withnoise.csv\")"
   ]
  },
  {
   "cell_type": "code",
   "execution_count": 119,
   "id": "0f57c24e",
   "metadata": {},
   "outputs": [
    {
     "name": "stdout",
     "output_type": "stream",
     "text": [
      "\u001b[1mIentifying missing values\u001b[0m\n",
      "Age                                259\n",
      "Customer_Type                        0\n",
      "Gender                               0\n",
      "Location                             0\n",
      "Income                             458\n",
      "Occupation                           0\n",
      "Type_of_Profession                 500\n",
      "Credit_Score                         0\n",
      "Number_of_Products                   0\n",
      "Tenure_of_Association                0\n",
      "Cheque_Bounce_Indicator              0\n",
      "Min_Avg_Balance                      0\n",
      "Last_FY_Credit                       0\n",
      "Last_Account_Opened                  0\n",
      "Account_Nature                       0\n",
      "prd                                  0\n",
      "Balance                              0\n",
      "Security_Amount                      0\n",
      "Loan_Repayment_Amount                0\n",
      "Rate_of_Interest                     0\n",
      "Limit_Expired                        0\n",
      "Stock_Statement_Expiry_Date_Due      0\n",
      "Loan_Disbursed_Amount                0\n",
      "Restructured_Flag                    0\n",
      "NEG_MAB_CORR                         0\n",
      "MAB_CORR                             0\n",
      "REPAY_HIST_GOOD                      0\n",
      "SMA_DAYS                             0\n",
      "NPA_TO_STD                           0\n",
      "STD_TO_NPA                           0\n",
      "BOUNCE_RATE                          0\n",
      "AVG_WDL                            389\n",
      "MORE_THAN_10P_CASH_WDL               0\n",
      "Inflation_Rate                       0\n",
      "Benchmark_Lending_Rate               0\n",
      "Unemployment_Rate                    0\n",
      "Type                                 0\n",
      "Sector                               0\n",
      "Sub_sector                           0\n",
      "Product                              0\n",
      "Delinquent                           0\n",
      "dtype: int64\n"
     ]
    }
   ],
   "source": [
    "print(\"\\033[1m\"+\"Ientifying missing values\"+\"\\033[0m\")\n",
    "missing=df.isna().sum()\n",
    "print(missing)"
   ]
  },
  {
   "cell_type": "code",
   "execution_count": null,
   "id": "bd25856d",
   "metadata": {},
   "outputs": [],
   "source": [
    "df['Type_of_Profession']=df[\"Type_of_Profession\"].fillna('Others')"
   ]
  },
  {
   "cell_type": "code",
   "execution_count": 120,
   "id": "b7fec005",
   "metadata": {},
   "outputs": [],
   "source": [
    "df['Income']=df[\"Income\"].fillna(df.groupby(['Customer_Type','Type_of_Profession'])['Income'].transform('median'))\n",
    "df['AVG_WDL']=df[\"AVG_WDL\"].fillna(df.groupby(['Customer_Type','Type_of_Profession'])['AVG_WDL'].transform('median'))\n",
    "df['Age']=df[\"Age\"].fillna(df.groupby(['Customer_Type','Type_of_Profession'])['Age'].transform('median'))"
   ]
  },
  {
   "cell_type": "code",
   "execution_count": 121,
   "id": "b3255f21",
   "metadata": {},
   "outputs": [
    {
     "name": "stdout",
     "output_type": "stream",
     "text": [
      "\u001b[1mAfter Handling Missing Values\u001b[0m\n",
      "Age                                259\n",
      "Customer_Type                        0\n",
      "Gender                               0\n",
      "Location                             0\n",
      "Income                             458\n",
      "Occupation                           0\n",
      "Type_of_Profession                 500\n",
      "Credit_Score                         0\n",
      "Number_of_Products                   0\n",
      "Tenure_of_Association                0\n",
      "Cheque_Bounce_Indicator              0\n",
      "Min_Avg_Balance                      0\n",
      "Last_FY_Credit                       0\n",
      "Last_Account_Opened                  0\n",
      "Account_Nature                       0\n",
      "prd                                  0\n",
      "Balance                              0\n",
      "Security_Amount                      0\n",
      "Loan_Repayment_Amount                0\n",
      "Rate_of_Interest                     0\n",
      "Limit_Expired                        0\n",
      "Stock_Statement_Expiry_Date_Due      0\n",
      "Loan_Disbursed_Amount                0\n",
      "Restructured_Flag                    0\n",
      "NEG_MAB_CORR                         0\n",
      "MAB_CORR                             0\n",
      "REPAY_HIST_GOOD                      0\n",
      "SMA_DAYS                             0\n",
      "NPA_TO_STD                           0\n",
      "STD_TO_NPA                           0\n",
      "BOUNCE_RATE                          0\n",
      "AVG_WDL                            389\n",
      "MORE_THAN_10P_CASH_WDL               0\n",
      "Inflation_Rate                       0\n",
      "Benchmark_Lending_Rate               0\n",
      "Unemployment_Rate                    0\n",
      "Type                                 0\n",
      "Sector                               0\n",
      "Sub_sector                           0\n",
      "Product                              0\n",
      "Delinquent                           0\n",
      "dtype: int64\n"
     ]
    }
   ],
   "source": [
    "print(\"\\033[1m\"+\"After Handling Missing Values\"+\"\\033[0m\")\n",
    "missing=df.isna().sum()\n",
    "print(missing)\n"
   ]
  },
  {
   "cell_type": "code",
   "execution_count": 65,
   "id": "ddd70086",
   "metadata": {},
   "outputs": [
    {
     "name": "stdout",
     "output_type": "stream",
     "text": [
      "\u001b[1mChecking FOr outliers\u001b[0m\n"
     ]
    },
    {
     "data": {
      "text/html": [
       "<div>\n",
       "<style scoped>\n",
       "    .dataframe tbody tr th:only-of-type {\n",
       "        vertical-align: middle;\n",
       "    }\n",
       "\n",
       "    .dataframe tbody tr th {\n",
       "        vertical-align: top;\n",
       "    }\n",
       "\n",
       "    .dataframe thead th {\n",
       "        text-align: right;\n",
       "    }\n",
       "</style>\n",
       "<table border=\"1\" class=\"dataframe\">\n",
       "  <thead>\n",
       "    <tr style=\"text-align: right;\">\n",
       "      <th></th>\n",
       "      <th>Age</th>\n",
       "      <th>Income</th>\n",
       "      <th>Credit_Score</th>\n",
       "      <th>Number_of_Products</th>\n",
       "      <th>Tenure_of_Association</th>\n",
       "      <th>Min_Avg_Balance</th>\n",
       "      <th>Last_FY_Credit</th>\n",
       "      <th>Last_Account_Opened</th>\n",
       "      <th>Balance</th>\n",
       "      <th>Security_Amount</th>\n",
       "      <th>...</th>\n",
       "      <th>NEG_MAB_CORR</th>\n",
       "      <th>MAB_CORR</th>\n",
       "      <th>SMA_DAYS</th>\n",
       "      <th>NPA_TO_STD</th>\n",
       "      <th>STD_TO_NPA</th>\n",
       "      <th>BOUNCE_RATE</th>\n",
       "      <th>AVG_WDL</th>\n",
       "      <th>Inflation_Rate</th>\n",
       "      <th>Benchmark_Lending_Rate</th>\n",
       "      <th>Unemployment_Rate</th>\n",
       "    </tr>\n",
       "  </thead>\n",
       "  <tbody>\n",
       "    <tr>\n",
       "      <th>count</th>\n",
       "      <td>300500.000000</td>\n",
       "      <td>3.005000e+05</td>\n",
       "      <td>300500.000000</td>\n",
       "      <td>300500.000000</td>\n",
       "      <td>300500.000000</td>\n",
       "      <td>3.005000e+05</td>\n",
       "      <td>3.005000e+05</td>\n",
       "      <td>300500.000000</td>\n",
       "      <td>3.005000e+05</td>\n",
       "      <td>3.005000e+05</td>\n",
       "      <td>...</td>\n",
       "      <td>300500.000000</td>\n",
       "      <td>300500.000000</td>\n",
       "      <td>300500.000000</td>\n",
       "      <td>300500.000000</td>\n",
       "      <td>300500.000000</td>\n",
       "      <td>300500.000000</td>\n",
       "      <td>300500.000000</td>\n",
       "      <td>300500.000000</td>\n",
       "      <td>300500.000000</td>\n",
       "      <td>300500.000000</td>\n",
       "    </tr>\n",
       "    <tr>\n",
       "      <th>mean</th>\n",
       "      <td>44.019839</td>\n",
       "      <td>5.131442e+05</td>\n",
       "      <td>575.463757</td>\n",
       "      <td>4.996795</td>\n",
       "      <td>14.966375</td>\n",
       "      <td>2.544133e+05</td>\n",
       "      <td>2.493904e+06</td>\n",
       "      <td>1821.123170</td>\n",
       "      <td>2.902650e+05</td>\n",
       "      <td>2.498292e+07</td>\n",
       "      <td>...</td>\n",
       "      <td>0.499941</td>\n",
       "      <td>0.499431</td>\n",
       "      <td>181.892493</td>\n",
       "      <td>1.503038</td>\n",
       "      <td>1.497594</td>\n",
       "      <td>0.499960</td>\n",
       "      <td>101081.241404</td>\n",
       "      <td>0.499175</td>\n",
       "      <td>0.501624</td>\n",
       "      <td>0.501913</td>\n",
       "    </tr>\n",
       "    <tr>\n",
       "      <th>std</th>\n",
       "      <td>15.088529</td>\n",
       "      <td>3.633853e+05</td>\n",
       "      <td>158.767337</td>\n",
       "      <td>2.586030</td>\n",
       "      <td>8.664526</td>\n",
       "      <td>1.828485e+05</td>\n",
       "      <td>1.443588e+06</td>\n",
       "      <td>1053.292493</td>\n",
       "      <td>1.132578e+06</td>\n",
       "      <td>1.444200e+07</td>\n",
       "      <td>...</td>\n",
       "      <td>0.288622</td>\n",
       "      <td>0.288499</td>\n",
       "      <td>105.347055</td>\n",
       "      <td>1.119165</td>\n",
       "      <td>1.118021</td>\n",
       "      <td>0.289028</td>\n",
       "      <td>60742.163819</td>\n",
       "      <td>0.500000</td>\n",
       "      <td>0.499998</td>\n",
       "      <td>0.499997</td>\n",
       "    </tr>\n",
       "    <tr>\n",
       "      <th>min</th>\n",
       "      <td>0.563457</td>\n",
       "      <td>3.673438e+03</td>\n",
       "      <td>300.001935</td>\n",
       "      <td>1.000000</td>\n",
       "      <td>0.000018</td>\n",
       "      <td>6.695461e-01</td>\n",
       "      <td>1.961282e+00</td>\n",
       "      <td>0.001341</td>\n",
       "      <td>5.011254e+02</td>\n",
       "      <td>1.275004e+03</td>\n",
       "      <td>...</td>\n",
       "      <td>0.000002</td>\n",
       "      <td>0.000004</td>\n",
       "      <td>0.000000</td>\n",
       "      <td>0.000000</td>\n",
       "      <td>0.000000</td>\n",
       "      <td>0.000001</td>\n",
       "      <td>340.862472</td>\n",
       "      <td>0.000000</td>\n",
       "      <td>0.000000</td>\n",
       "      <td>0.000000</td>\n",
       "    </tr>\n",
       "    <tr>\n",
       "      <th>25%</th>\n",
       "      <td>30.936939</td>\n",
       "      <td>2.587210e+05</td>\n",
       "      <td>437.888330</td>\n",
       "      <td>3.000000</td>\n",
       "      <td>7.470750</td>\n",
       "      <td>1.256072e+05</td>\n",
       "      <td>1.245172e+06</td>\n",
       "      <td>909.531981</td>\n",
       "      <td>1.255317e+05</td>\n",
       "      <td>1.245816e+07</td>\n",
       "      <td>...</td>\n",
       "      <td>0.250457</td>\n",
       "      <td>0.249845</td>\n",
       "      <td>91.000000</td>\n",
       "      <td>1.000000</td>\n",
       "      <td>0.000000</td>\n",
       "      <td>0.249653</td>\n",
       "      <td>50588.281937</td>\n",
       "      <td>0.000000</td>\n",
       "      <td>0.000000</td>\n",
       "      <td>0.000000</td>\n",
       "    </tr>\n",
       "    <tr>\n",
       "      <th>50%</th>\n",
       "      <td>44.044485</td>\n",
       "      <td>5.063255e+05</td>\n",
       "      <td>575.715765</td>\n",
       "      <td>5.000000</td>\n",
       "      <td>14.958781</td>\n",
       "      <td>2.509435e+05</td>\n",
       "      <td>2.491619e+06</td>\n",
       "      <td>1817.066719</td>\n",
       "      <td>2.507159e+05</td>\n",
       "      <td>2.494034e+07</td>\n",
       "      <td>...</td>\n",
       "      <td>0.499952</td>\n",
       "      <td>0.499998</td>\n",
       "      <td>182.000000</td>\n",
       "      <td>2.000000</td>\n",
       "      <td>1.000000</td>\n",
       "      <td>0.499567</td>\n",
       "      <td>100664.737703</td>\n",
       "      <td>0.000000</td>\n",
       "      <td>1.000000</td>\n",
       "      <td>1.000000</td>\n",
       "    </tr>\n",
       "    <tr>\n",
       "      <th>75%</th>\n",
       "      <td>57.038027</td>\n",
       "      <td>7.535667e+05</td>\n",
       "      <td>713.009581</td>\n",
       "      <td>7.000000</td>\n",
       "      <td>22.486957</td>\n",
       "      <td>3.756104e+05</td>\n",
       "      <td>3.740904e+06</td>\n",
       "      <td>2734.008724</td>\n",
       "      <td>3.758173e+05</td>\n",
       "      <td>3.748880e+07</td>\n",
       "      <td>...</td>\n",
       "      <td>0.749619</td>\n",
       "      <td>0.748500</td>\n",
       "      <td>273.000000</td>\n",
       "      <td>3.000000</td>\n",
       "      <td>2.000000</td>\n",
       "      <td>0.750381</td>\n",
       "      <td>150285.617833</td>\n",
       "      <td>1.000000</td>\n",
       "      <td>1.000000</td>\n",
       "      <td>1.000000</td>\n",
       "    </tr>\n",
       "    <tr>\n",
       "      <th>max</th>\n",
       "      <td>119.861641</td>\n",
       "      <td>9.985266e+06</td>\n",
       "      <td>849.999670</td>\n",
       "      <td>9.000000</td>\n",
       "      <td>29.999909</td>\n",
       "      <td>4.980685e+06</td>\n",
       "      <td>4.999996e+06</td>\n",
       "      <td>3649.996598</td>\n",
       "      <td>4.982780e+07</td>\n",
       "      <td>4.999991e+07</td>\n",
       "      <td>...</td>\n",
       "      <td>1.000000</td>\n",
       "      <td>0.999992</td>\n",
       "      <td>364.000000</td>\n",
       "      <td>3.000000</td>\n",
       "      <td>3.000000</td>\n",
       "      <td>0.999993</td>\n",
       "      <td>994686.386661</td>\n",
       "      <td>1.000000</td>\n",
       "      <td>1.000000</td>\n",
       "      <td>1.000000</td>\n",
       "    </tr>\n",
       "  </tbody>\n",
       "</table>\n",
       "<p>8 rows × 23 columns</p>\n",
       "</div>"
      ],
      "text/plain": [
       "                 Age        Income   Credit_Score  Number_of_Products  \\\n",
       "count  300500.000000  3.005000e+05  300500.000000       300500.000000   \n",
       "mean       44.019839  5.131442e+05     575.463757            4.996795   \n",
       "std        15.088529  3.633853e+05     158.767337            2.586030   \n",
       "min         0.563457  3.673438e+03     300.001935            1.000000   \n",
       "25%        30.936939  2.587210e+05     437.888330            3.000000   \n",
       "50%        44.044485  5.063255e+05     575.715765            5.000000   \n",
       "75%        57.038027  7.535667e+05     713.009581            7.000000   \n",
       "max       119.861641  9.985266e+06     849.999670            9.000000   \n",
       "\n",
       "       Tenure_of_Association  Min_Avg_Balance  Last_FY_Credit  \\\n",
       "count          300500.000000     3.005000e+05    3.005000e+05   \n",
       "mean               14.966375     2.544133e+05    2.493904e+06   \n",
       "std                 8.664526     1.828485e+05    1.443588e+06   \n",
       "min                 0.000018     6.695461e-01    1.961282e+00   \n",
       "25%                 7.470750     1.256072e+05    1.245172e+06   \n",
       "50%                14.958781     2.509435e+05    2.491619e+06   \n",
       "75%                22.486957     3.756104e+05    3.740904e+06   \n",
       "max                29.999909     4.980685e+06    4.999996e+06   \n",
       "\n",
       "       Last_Account_Opened       Balance  Security_Amount  ...   NEG_MAB_CORR  \\\n",
       "count        300500.000000  3.005000e+05     3.005000e+05  ...  300500.000000   \n",
       "mean           1821.123170  2.902650e+05     2.498292e+07  ...       0.499941   \n",
       "std            1053.292493  1.132578e+06     1.444200e+07  ...       0.288622   \n",
       "min               0.001341  5.011254e+02     1.275004e+03  ...       0.000002   \n",
       "25%             909.531981  1.255317e+05     1.245816e+07  ...       0.250457   \n",
       "50%            1817.066719  2.507159e+05     2.494034e+07  ...       0.499952   \n",
       "75%            2734.008724  3.758173e+05     3.748880e+07  ...       0.749619   \n",
       "max            3649.996598  4.982780e+07     4.999991e+07  ...       1.000000   \n",
       "\n",
       "            MAB_CORR       SMA_DAYS     NPA_TO_STD     STD_TO_NPA  \\\n",
       "count  300500.000000  300500.000000  300500.000000  300500.000000   \n",
       "mean        0.499431     181.892493       1.503038       1.497594   \n",
       "std         0.288499     105.347055       1.119165       1.118021   \n",
       "min         0.000004       0.000000       0.000000       0.000000   \n",
       "25%         0.249845      91.000000       1.000000       0.000000   \n",
       "50%         0.499998     182.000000       2.000000       1.000000   \n",
       "75%         0.748500     273.000000       3.000000       2.000000   \n",
       "max         0.999992     364.000000       3.000000       3.000000   \n",
       "\n",
       "         BOUNCE_RATE        AVG_WDL  Inflation_Rate  Benchmark_Lending_Rate  \\\n",
       "count  300500.000000  300500.000000   300500.000000           300500.000000   \n",
       "mean        0.499960  101081.241404        0.499175                0.501624   \n",
       "std         0.289028   60742.163819        0.500000                0.499998   \n",
       "min         0.000001     340.862472        0.000000                0.000000   \n",
       "25%         0.249653   50588.281937        0.000000                0.000000   \n",
       "50%         0.499567  100664.737703        0.000000                1.000000   \n",
       "75%         0.750381  150285.617833        1.000000                1.000000   \n",
       "max         0.999993  994686.386661        1.000000                1.000000   \n",
       "\n",
       "       Unemployment_Rate  \n",
       "count      300500.000000  \n",
       "mean            0.501913  \n",
       "std             0.499997  \n",
       "min             0.000000  \n",
       "25%             0.000000  \n",
       "50%             1.000000  \n",
       "75%             1.000000  \n",
       "max             1.000000  \n",
       "\n",
       "[8 rows x 23 columns]"
      ]
     },
     "execution_count": 65,
     "metadata": {},
     "output_type": "execute_result"
    }
   ],
   "source": [
    "print(\"\\033[1m\"+\"Checking FOr outliers\"+\"\\033[0m\")\n",
    "\n",
    "df.describe()"
   ]
  },
  {
   "cell_type": "code",
   "execution_count": 66,
   "id": "431036e3",
   "metadata": {},
   "outputs": [],
   "source": [
    "#Identifying and Dropping of outliers\n",
    "\n",
    "Q1=df['Age'].quantile(0.25)\n",
    "Q3 = df['Age'].quantile(0.75)\n",
    "IQR = Q3-Q1\n",
    "threshold =1\n",
    "outliers_age=df[(df['Age']<Q1 - threshold*IQR)|(df['Age']>Q3+threshold*IQR)]"
   ]
  },
  {
   "cell_type": "code",
   "execution_count": 67,
   "id": "d9f6bcae",
   "metadata": {},
   "outputs": [],
   "source": [
    "df=df.drop(outliers_age.index)"
   ]
  },
  {
   "cell_type": "code",
   "execution_count": 68,
   "id": "e36aca5b",
   "metadata": {},
   "outputs": [],
   "source": [
    "Q1=df['Income'].quantile(0.25)\n",
    "Q3 = df['Income'].quantile(0.75)\n",
    "IQR = Q3-Q1\n",
    "threshold =1\n",
    "outliers_income=df[(df['Income']<Q1 - threshold*IQR)|(df['Income']>Q3+threshold*IQR)]"
   ]
  },
  {
   "cell_type": "code",
   "execution_count": 69,
   "id": "1cbfbb69",
   "metadata": {},
   "outputs": [],
   "source": [
    "df=df.drop(outliers_income.index)"
   ]
  },
  {
   "cell_type": "code",
   "execution_count": 70,
   "id": "2bd2be14",
   "metadata": {},
   "outputs": [],
   "source": [
    "Q1=df['Min_Avg_Balance'].quantile(0.25)\n",
    "Q3 = df['Min_Avg_Balance'].quantile(0.75)\n",
    "IQR = Q3-Q1\n",
    "threshold =1\n",
    "outliers_min_avg_bal=df[(df['Min_Avg_Balance']<Q1 - threshold*IQR)|(df['Min_Avg_Balance']>Q3+threshold*IQR)]"
   ]
  },
  {
   "cell_type": "code",
   "execution_count": 71,
   "id": "f57c8a9e",
   "metadata": {},
   "outputs": [],
   "source": [
    "df=df.drop(outliers_min_avg_bal.index)"
   ]
  },
  {
   "cell_type": "code",
   "execution_count": 72,
   "id": "d9351337",
   "metadata": {},
   "outputs": [],
   "source": [
    "Q1=df['Last_FY_Credit'].quantile(0.25)\n",
    "Q3 = df['Last_FY_Credit'].quantile(0.75)\n",
    "IQR = Q3-Q1\n",
    "threshold =1\n",
    "outliers_last_credit=df[(df['Last_FY_Credit']<Q1 - threshold*IQR)|(df['Last_FY_Credit']>Q3+threshold*IQR)]"
   ]
  },
  {
   "cell_type": "code",
   "execution_count": 73,
   "id": "c0056e38",
   "metadata": {},
   "outputs": [],
   "source": [
    "df=df.drop(outliers_last_credit.index)"
   ]
  },
  {
   "cell_type": "code",
   "execution_count": 74,
   "id": "8d65dbdd",
   "metadata": {},
   "outputs": [],
   "source": [
    "Q1=df['Balance'].quantile(0.25)\n",
    "Q3 = df['Balance'].quantile(0.75)\n",
    "IQR = Q3-Q1\n",
    "threshold =1\n",
    "outliers_bal=df[(df['Balance']<Q1 - threshold*IQR)|(df['Balance']>Q3+threshold*IQR)]"
   ]
  },
  {
   "cell_type": "code",
   "execution_count": 75,
   "id": "16243f96",
   "metadata": {},
   "outputs": [],
   "source": [
    "df=df.drop(outliers_bal.index)"
   ]
  },
  {
   "cell_type": "code",
   "execution_count": 76,
   "id": "4d43360c",
   "metadata": {},
   "outputs": [],
   "source": [
    "Q1=df['Loan_Repayment_Amount'].quantile(0.25)\n",
    "Q3 = df['Loan_Repayment_Amount'].quantile(0.75)\n",
    "IQR = Q3-Q1\n",
    "threshold =1\n",
    "outliers_loan_repay_amt=df[(df['Loan_Repayment_Amount']<Q1 - threshold*IQR)|(df['Loan_Repayment_Amount']>Q3+threshold*IQR)]"
   ]
  },
  {
   "cell_type": "code",
   "execution_count": 77,
   "id": "3f0da9e1",
   "metadata": {},
   "outputs": [],
   "source": [
    "df=df.drop(outliers_loan_repay_amt.index)"
   ]
  },
  {
   "cell_type": "code",
   "execution_count": 78,
   "id": "9c8f2cfb",
   "metadata": {},
   "outputs": [],
   "source": [
    "Q1=df['AVG_WDL'].quantile(0.25)\n",
    "Q3 = df['AVG_WDL'].quantile(0.75)\n",
    "IQR = Q3-Q1\n",
    "threshold =1\n",
    "outliers_avg_wdl=df[(df['AVG_WDL']<Q1 - threshold*IQR)|(df['AVG_WDL']>Q3+threshold*IQR)]"
   ]
  },
  {
   "cell_type": "code",
   "execution_count": 79,
   "id": "ed2bcc69",
   "metadata": {},
   "outputs": [],
   "source": [
    "df=df.drop(outliers_avg_wdl.index)"
   ]
  },
  {
   "cell_type": "code",
   "execution_count": 80,
   "id": "d79b21a7",
   "metadata": {},
   "outputs": [
    {
     "name": "stdout",
     "output_type": "stream",
     "text": [
      "\u001b[1mAfter Removing Outliers\u001b[0m\n"
     ]
    },
    {
     "data": {
      "text/html": [
       "<div>\n",
       "<style scoped>\n",
       "    .dataframe tbody tr th:only-of-type {\n",
       "        vertical-align: middle;\n",
       "    }\n",
       "\n",
       "    .dataframe tbody tr th {\n",
       "        vertical-align: top;\n",
       "    }\n",
       "\n",
       "    .dataframe thead th {\n",
       "        text-align: right;\n",
       "    }\n",
       "</style>\n",
       "<table border=\"1\" class=\"dataframe\">\n",
       "  <thead>\n",
       "    <tr style=\"text-align: right;\">\n",
       "      <th></th>\n",
       "      <th>Age</th>\n",
       "      <th>Income</th>\n",
       "      <th>Credit_Score</th>\n",
       "      <th>Number_of_Products</th>\n",
       "      <th>Tenure_of_Association</th>\n",
       "      <th>Min_Avg_Balance</th>\n",
       "      <th>Last_FY_Credit</th>\n",
       "      <th>Last_Account_Opened</th>\n",
       "      <th>Balance</th>\n",
       "      <th>Security_Amount</th>\n",
       "      <th>...</th>\n",
       "      <th>NEG_MAB_CORR</th>\n",
       "      <th>MAB_CORR</th>\n",
       "      <th>SMA_DAYS</th>\n",
       "      <th>NPA_TO_STD</th>\n",
       "      <th>STD_TO_NPA</th>\n",
       "      <th>BOUNCE_RATE</th>\n",
       "      <th>AVG_WDL</th>\n",
       "      <th>Inflation_Rate</th>\n",
       "      <th>Benchmark_Lending_Rate</th>\n",
       "      <th>Unemployment_Rate</th>\n",
       "    </tr>\n",
       "  </thead>\n",
       "  <tbody>\n",
       "    <tr>\n",
       "      <th>count</th>\n",
       "      <td>300000.000000</td>\n",
       "      <td>300000.000000</td>\n",
       "      <td>300000.000000</td>\n",
       "      <td>300000.000000</td>\n",
       "      <td>300000.000000</td>\n",
       "      <td>300000.000000</td>\n",
       "      <td>3.000000e+05</td>\n",
       "      <td>300000.000000</td>\n",
       "      <td>300000.000000</td>\n",
       "      <td>3.000000e+05</td>\n",
       "      <td>...</td>\n",
       "      <td>300000.000000</td>\n",
       "      <td>300000.000000</td>\n",
       "      <td>300000.000000</td>\n",
       "      <td>300000.000000</td>\n",
       "      <td>300000.000000</td>\n",
       "      <td>300000.000000</td>\n",
       "      <td>300000.000000</td>\n",
       "      <td>300000.00000</td>\n",
       "      <td>300000.000000</td>\n",
       "      <td>300000.000000</td>\n",
       "    </tr>\n",
       "    <tr>\n",
       "      <th>mean</th>\n",
       "      <td>43.993886</td>\n",
       "      <td>505372.734654</td>\n",
       "      <td>575.458995</td>\n",
       "      <td>4.996717</td>\n",
       "      <td>14.966893</td>\n",
       "      <td>250305.292732</td>\n",
       "      <td>2.498060e+06</td>\n",
       "      <td>1821.087660</td>\n",
       "      <td>250280.319317</td>\n",
       "      <td>2.498399e+07</td>\n",
       "      <td>...</td>\n",
       "      <td>0.499953</td>\n",
       "      <td>0.499447</td>\n",
       "      <td>181.889427</td>\n",
       "      <td>1.503060</td>\n",
       "      <td>1.497493</td>\n",
       "      <td>0.499964</td>\n",
       "      <td>100438.414997</td>\n",
       "      <td>0.49915</td>\n",
       "      <td>0.501653</td>\n",
       "      <td>0.501890</td>\n",
       "    </tr>\n",
       "    <tr>\n",
       "      <th>std</th>\n",
       "      <td>15.019970</td>\n",
       "      <td>285639.277422</td>\n",
       "      <td>158.771635</td>\n",
       "      <td>2.585898</td>\n",
       "      <td>8.664566</td>\n",
       "      <td>144108.106863</td>\n",
       "      <td>1.441194e+06</td>\n",
       "      <td>1053.294275</td>\n",
       "      <td>144364.460942</td>\n",
       "      <td>1.444218e+07</td>\n",
       "      <td>...</td>\n",
       "      <td>0.288631</td>\n",
       "      <td>0.288504</td>\n",
       "      <td>105.351120</td>\n",
       "      <td>1.119173</td>\n",
       "      <td>1.117976</td>\n",
       "      <td>0.289040</td>\n",
       "      <td>57469.288172</td>\n",
       "      <td>0.50000</td>\n",
       "      <td>0.499998</td>\n",
       "      <td>0.499997</td>\n",
       "    </tr>\n",
       "    <tr>\n",
       "      <th>min</th>\n",
       "      <td>18.000153</td>\n",
       "      <td>10001.408082</td>\n",
       "      <td>300.001935</td>\n",
       "      <td>1.000000</td>\n",
       "      <td>0.000018</td>\n",
       "      <td>0.669546</td>\n",
       "      <td>1.030000e+03</td>\n",
       "      <td>0.001341</td>\n",
       "      <td>501.125387</td>\n",
       "      <td>1.275004e+03</td>\n",
       "      <td>...</td>\n",
       "      <td>0.000002</td>\n",
       "      <td>0.000004</td>\n",
       "      <td>0.000000</td>\n",
       "      <td>0.000000</td>\n",
       "      <td>0.000000</td>\n",
       "      <td>0.000001</td>\n",
       "      <td>1000.278135</td>\n",
       "      <td>0.00000</td>\n",
       "      <td>0.000000</td>\n",
       "      <td>0.000000</td>\n",
       "    </tr>\n",
       "    <tr>\n",
       "      <th>25%</th>\n",
       "      <td>30.939121</td>\n",
       "      <td>258288.365334</td>\n",
       "      <td>437.871321</td>\n",
       "      <td>3.000000</td>\n",
       "      <td>7.470975</td>\n",
       "      <td>125402.878047</td>\n",
       "      <td>1.251864e+06</td>\n",
       "      <td>909.456093</td>\n",
       "      <td>125303.919109</td>\n",
       "      <td>1.245927e+07</td>\n",
       "      <td>...</td>\n",
       "      <td>0.250451</td>\n",
       "      <td>0.249859</td>\n",
       "      <td>91.000000</td>\n",
       "      <td>1.000000</td>\n",
       "      <td>0.000000</td>\n",
       "      <td>0.249659</td>\n",
       "      <td>50524.574367</td>\n",
       "      <td>0.00000</td>\n",
       "      <td>0.000000</td>\n",
       "      <td>0.000000</td>\n",
       "    </tr>\n",
       "    <tr>\n",
       "      <th>50%</th>\n",
       "      <td>44.033675</td>\n",
       "      <td>505597.222886</td>\n",
       "      <td>575.720344</td>\n",
       "      <td>5.000000</td>\n",
       "      <td>14.960100</td>\n",
       "      <td>250536.113010</td>\n",
       "      <td>2.495727e+06</td>\n",
       "      <td>1817.038210</td>\n",
       "      <td>250277.673335</td>\n",
       "      <td>2.494032e+07</td>\n",
       "      <td>...</td>\n",
       "      <td>0.499965</td>\n",
       "      <td>0.500030</td>\n",
       "      <td>182.000000</td>\n",
       "      <td>2.000000</td>\n",
       "      <td>1.000000</td>\n",
       "      <td>0.499577</td>\n",
       "      <td>100526.523714</td>\n",
       "      <td>0.00000</td>\n",
       "      <td>1.000000</td>\n",
       "      <td>1.000000</td>\n",
       "    </tr>\n",
       "    <tr>\n",
       "      <th>75%</th>\n",
       "      <td>57.016605</td>\n",
       "      <td>752493.372560</td>\n",
       "      <td>713.007265</td>\n",
       "      <td>7.000000</td>\n",
       "      <td>22.487244</td>\n",
       "      <td>374990.288393</td>\n",
       "      <td>3.742941e+06</td>\n",
       "      <td>2733.970640</td>\n",
       "      <td>375170.922574</td>\n",
       "      <td>3.749060e+07</td>\n",
       "      <td>...</td>\n",
       "      <td>0.749667</td>\n",
       "      <td>0.748516</td>\n",
       "      <td>273.000000</td>\n",
       "      <td>3.000000</td>\n",
       "      <td>2.000000</td>\n",
       "      <td>0.750420</td>\n",
       "      <td>150107.117961</td>\n",
       "      <td>1.00000</td>\n",
       "      <td>1.000000</td>\n",
       "      <td>1.000000</td>\n",
       "    </tr>\n",
       "    <tr>\n",
       "      <th>max</th>\n",
       "      <td>69.999949</td>\n",
       "      <td>999996.867943</td>\n",
       "      <td>849.999670</td>\n",
       "      <td>9.000000</td>\n",
       "      <td>29.999909</td>\n",
       "      <td>499997.413507</td>\n",
       "      <td>4.999996e+06</td>\n",
       "      <td>3649.996598</td>\n",
       "      <td>499999.022569</td>\n",
       "      <td>4.999991e+07</td>\n",
       "      <td>...</td>\n",
       "      <td>1.000000</td>\n",
       "      <td>0.999992</td>\n",
       "      <td>364.000000</td>\n",
       "      <td>3.000000</td>\n",
       "      <td>3.000000</td>\n",
       "      <td>0.999993</td>\n",
       "      <td>199999.519852</td>\n",
       "      <td>1.00000</td>\n",
       "      <td>1.000000</td>\n",
       "      <td>1.000000</td>\n",
       "    </tr>\n",
       "  </tbody>\n",
       "</table>\n",
       "<p>8 rows × 23 columns</p>\n",
       "</div>"
      ],
      "text/plain": [
       "                 Age         Income   Credit_Score  Number_of_Products  \\\n",
       "count  300000.000000  300000.000000  300000.000000       300000.000000   \n",
       "mean       43.993886  505372.734654     575.458995            4.996717   \n",
       "std        15.019970  285639.277422     158.771635            2.585898   \n",
       "min        18.000153   10001.408082     300.001935            1.000000   \n",
       "25%        30.939121  258288.365334     437.871321            3.000000   \n",
       "50%        44.033675  505597.222886     575.720344            5.000000   \n",
       "75%        57.016605  752493.372560     713.007265            7.000000   \n",
       "max        69.999949  999996.867943     849.999670            9.000000   \n",
       "\n",
       "       Tenure_of_Association  Min_Avg_Balance  Last_FY_Credit  \\\n",
       "count          300000.000000    300000.000000    3.000000e+05   \n",
       "mean               14.966893    250305.292732    2.498060e+06   \n",
       "std                 8.664566    144108.106863    1.441194e+06   \n",
       "min                 0.000018         0.669546    1.030000e+03   \n",
       "25%                 7.470975    125402.878047    1.251864e+06   \n",
       "50%                14.960100    250536.113010    2.495727e+06   \n",
       "75%                22.487244    374990.288393    3.742941e+06   \n",
       "max                29.999909    499997.413507    4.999996e+06   \n",
       "\n",
       "       Last_Account_Opened        Balance  Security_Amount  ...  \\\n",
       "count        300000.000000  300000.000000     3.000000e+05  ...   \n",
       "mean           1821.087660  250280.319317     2.498399e+07  ...   \n",
       "std            1053.294275  144364.460942     1.444218e+07  ...   \n",
       "min               0.001341     501.125387     1.275004e+03  ...   \n",
       "25%             909.456093  125303.919109     1.245927e+07  ...   \n",
       "50%            1817.038210  250277.673335     2.494032e+07  ...   \n",
       "75%            2733.970640  375170.922574     3.749060e+07  ...   \n",
       "max            3649.996598  499999.022569     4.999991e+07  ...   \n",
       "\n",
       "        NEG_MAB_CORR       MAB_CORR       SMA_DAYS     NPA_TO_STD  \\\n",
       "count  300000.000000  300000.000000  300000.000000  300000.000000   \n",
       "mean        0.499953       0.499447     181.889427       1.503060   \n",
       "std         0.288631       0.288504     105.351120       1.119173   \n",
       "min         0.000002       0.000004       0.000000       0.000000   \n",
       "25%         0.250451       0.249859      91.000000       1.000000   \n",
       "50%         0.499965       0.500030     182.000000       2.000000   \n",
       "75%         0.749667       0.748516     273.000000       3.000000   \n",
       "max         1.000000       0.999992     364.000000       3.000000   \n",
       "\n",
       "          STD_TO_NPA    BOUNCE_RATE        AVG_WDL  Inflation_Rate  \\\n",
       "count  300000.000000  300000.000000  300000.000000    300000.00000   \n",
       "mean        1.497493       0.499964  100438.414997         0.49915   \n",
       "std         1.117976       0.289040   57469.288172         0.50000   \n",
       "min         0.000000       0.000001    1000.278135         0.00000   \n",
       "25%         0.000000       0.249659   50524.574367         0.00000   \n",
       "50%         1.000000       0.499577  100526.523714         0.00000   \n",
       "75%         2.000000       0.750420  150107.117961         1.00000   \n",
       "max         3.000000       0.999993  199999.519852         1.00000   \n",
       "\n",
       "       Benchmark_Lending_Rate  Unemployment_Rate  \n",
       "count           300000.000000      300000.000000  \n",
       "mean                 0.501653           0.501890  \n",
       "std                  0.499998           0.499997  \n",
       "min                  0.000000           0.000000  \n",
       "25%                  0.000000           0.000000  \n",
       "50%                  1.000000           1.000000  \n",
       "75%                  1.000000           1.000000  \n",
       "max                  1.000000           1.000000  \n",
       "\n",
       "[8 rows x 23 columns]"
      ]
     },
     "execution_count": 80,
     "metadata": {},
     "output_type": "execute_result"
    }
   ],
   "source": [
    "print(\"\\033[1m\"+\"After Removing Outliers\"+\"\\033[0m\")\n",
    "\n",
    "df.describe()"
   ]
  },
  {
   "cell_type": "code",
   "execution_count": 81,
   "id": "53eba21d",
   "metadata": {},
   "outputs": [
    {
     "name": "stdout",
     "output_type": "stream",
     "text": [
      "\u001b[1mStandardizing Data\u001b[0m\n"
     ]
    }
   ],
   "source": [
    "print(\"\\033[1m\"+\"Standardizing Data\"+\"\\033[0m\")\n",
    "\n",
    "df_x = df[['Age','Income','Credit_Score','Number_of_Products','Tenure_of_Association','Min_Avg_Balance', 'Last_FY_Credit','Last_Account_Opened','Balance','Security_Amount','Loan_Repayment_Amount','Rate_of_Interest','Loan_Disbursed_Amount','NEG_MAB_CORR','MAB_CORR','SMA_DAYS','NPA_TO_STD','STD_TO_NPA','BOUNCE_RATE','AVG_WDL']]\n",
    "scaler = StandardScaler()\n",
    "df[['Age_T','Income_T','Credit_Score_T','Number_of_Products_T','Tenure_of_Association_T','Min_Avg_Balance_T', 'Last_FY_Credit_T','Last_Account_Opened_T','Balance_T','Security_Amount_T','Loan_Repayment_Amount_T','Rate_of_Interest_T','Loan_Disbursed_Amount_T','NEG_MAB_CORR_T','MAB_CORR_T','SMA_DAYS_T','NPA_TO_STD_T','STD_TO_NPA_T','BOUNCE_RATE_T','AVG_WDL_T']] = (df_x-df_x.mean())/df_x.std()"
   ]
  },
  {
   "cell_type": "code",
   "execution_count": 82,
   "id": "befb4b7c",
   "metadata": {},
   "outputs": [
    {
     "name": "stdout",
     "output_type": "stream",
     "text": [
      "\u001b[1mBinning Data\u001b[0m\n"
     ]
    }
   ],
   "source": [
    "print(\"\\033[1m\"+\"Binning Data\"+\"\\033[0m\")"
   ]
  },
  {
   "cell_type": "code",
   "execution_count": 83,
   "id": "c63f547f",
   "metadata": {},
   "outputs": [],
   "source": [
    "cut_labels_8 = ['0-18', '18-25', '25-30', '30-40','40-50','50-60','60-75','>75']\n",
    "cut_bins = [0, 18, 25, 30, 40, 50, 60, 75, float('inf')]\n",
    "df['AGE_BAND'] = pd.cut(df['Age'], bins=cut_bins, labels=cut_labels_8)"
   ]
  },
  {
   "cell_type": "code",
   "execution_count": 84,
   "id": "4457d49a",
   "metadata": {},
   "outputs": [],
   "source": [
    "cut_labels_4 = ['0-1', '1-3', '3-5', '>5']\n",
    "cut_bins = [0, 1, 3, 5, float('inf')]\n",
    "df['PRODUCT_BAND'] = pd.cut(df['Number_of_Products'], bins=cut_bins, labels=cut_labels_4)"
   ]
  },
  {
   "cell_type": "code",
   "execution_count": 85,
   "id": "1f8c32a5",
   "metadata": {},
   "outputs": [],
   "source": [
    "cut_labels_4 = ['0-1', '1-3', '3-5', '5-10','>10']\n",
    "cut_bins = [0, 1, 3, 5, 10,float('inf')]\n",
    "df['TENURE_BAND'] = pd.cut(df['Tenure_of_Association'], bins=cut_bins, labels=cut_labels_4)"
   ]
  },
  {
   "cell_type": "code",
   "execution_count": 86,
   "id": "debe38dd",
   "metadata": {},
   "outputs": [],
   "source": [
    "cut_labels_4 = ['0-30', '30-90', '90-180', '>180']\n",
    "cut_bins = [0, 30, 90, 180, float('inf')]\n",
    "df['SMA_DAYS_BAND'] = pd.cut(df['SMA_DAYS'], bins=cut_bins, labels=cut_labels_4)"
   ]
  },
  {
   "cell_type": "code",
   "execution_count": 87,
   "id": "b8d51fcb",
   "metadata": {},
   "outputs": [
    {
     "name": "stdout",
     "output_type": "stream",
     "text": [
      "\u001b[1mData After Pre Processing\u001b[0m\n"
     ]
    },
    {
     "data": {
      "text/html": [
       "<div>\n",
       "<style scoped>\n",
       "    .dataframe tbody tr th:only-of-type {\n",
       "        vertical-align: middle;\n",
       "    }\n",
       "\n",
       "    .dataframe tbody tr th {\n",
       "        vertical-align: top;\n",
       "    }\n",
       "\n",
       "    .dataframe thead th {\n",
       "        text-align: right;\n",
       "    }\n",
       "</style>\n",
       "<table border=\"1\" class=\"dataframe\">\n",
       "  <thead>\n",
       "    <tr style=\"text-align: right;\">\n",
       "      <th></th>\n",
       "      <th>Age</th>\n",
       "      <th>Customer_Type</th>\n",
       "      <th>Gender</th>\n",
       "      <th>Location</th>\n",
       "      <th>Income</th>\n",
       "      <th>Occupation</th>\n",
       "      <th>Type_of_Profession</th>\n",
       "      <th>Credit_Score</th>\n",
       "      <th>Number_of_Products</th>\n",
       "      <th>Tenure_of_Association</th>\n",
       "      <th>...</th>\n",
       "      <th>MAB_CORR_T</th>\n",
       "      <th>SMA_DAYS_T</th>\n",
       "      <th>NPA_TO_STD_T</th>\n",
       "      <th>STD_TO_NPA_T</th>\n",
       "      <th>BOUNCE_RATE_T</th>\n",
       "      <th>AVG_WDL_T</th>\n",
       "      <th>AGE_BAND</th>\n",
       "      <th>PRODUCT_BAND</th>\n",
       "      <th>TENURE_BAND</th>\n",
       "      <th>SMA_DAYS_BAND</th>\n",
       "    </tr>\n",
       "  </thead>\n",
       "  <tbody>\n",
       "    <tr>\n",
       "      <th>0</th>\n",
       "      <td>46.538302</td>\n",
       "      <td>Individual</td>\n",
       "      <td>Male</td>\n",
       "      <td>Semi Urban</td>\n",
       "      <td>278129.258117</td>\n",
       "      <td>Non Salaried</td>\n",
       "      <td>Professional</td>\n",
       "      <td>751.839440</td>\n",
       "      <td>7</td>\n",
       "      <td>14.217031</td>\n",
       "      <td>...</td>\n",
       "      <td>0.144340</td>\n",
       "      <td>0.399716</td>\n",
       "      <td>0.444024</td>\n",
       "      <td>-0.444994</td>\n",
       "      <td>1.401075</td>\n",
       "      <td>-0.502521</td>\n",
       "      <td>40-50</td>\n",
       "      <td>&gt;5</td>\n",
       "      <td>&gt;10</td>\n",
       "      <td>&gt;180</td>\n",
       "    </tr>\n",
       "    <tr>\n",
       "      <th>1</th>\n",
       "      <td>55.189847</td>\n",
       "      <td>Non Individual</td>\n",
       "      <td>Other</td>\n",
       "      <td>Rural</td>\n",
       "      <td>377120.106856</td>\n",
       "      <td>Salaried</td>\n",
       "      <td>Professional</td>\n",
       "      <td>460.630685</td>\n",
       "      <td>5</td>\n",
       "      <td>16.581794</td>\n",
       "      <td>...</td>\n",
       "      <td>1.632882</td>\n",
       "      <td>-0.426093</td>\n",
       "      <td>0.444024</td>\n",
       "      <td>0.449479</td>\n",
       "      <td>0.400667</td>\n",
       "      <td>-0.777612</td>\n",
       "      <td>50-60</td>\n",
       "      <td>3-5</td>\n",
       "      <td>&gt;10</td>\n",
       "      <td>90-180</td>\n",
       "    </tr>\n",
       "    <tr>\n",
       "      <th>2</th>\n",
       "      <td>49.343696</td>\n",
       "      <td>Non Individual</td>\n",
       "      <td>Other</td>\n",
       "      <td>Semi Urban</td>\n",
       "      <td>551264.153645</td>\n",
       "      <td>Salaried</td>\n",
       "      <td>Professional</td>\n",
       "      <td>747.567108</td>\n",
       "      <td>2</td>\n",
       "      <td>13.076358</td>\n",
       "      <td>...</td>\n",
       "      <td>1.274970</td>\n",
       "      <td>0.599050</td>\n",
       "      <td>-0.449493</td>\n",
       "      <td>1.343952</td>\n",
       "      <td>1.366455</td>\n",
       "      <td>-0.449127</td>\n",
       "      <td>40-50</td>\n",
       "      <td>1-3</td>\n",
       "      <td>&gt;10</td>\n",
       "      <td>&gt;180</td>\n",
       "    </tr>\n",
       "    <tr>\n",
       "      <th>3</th>\n",
       "      <td>46.333926</td>\n",
       "      <td>Individual</td>\n",
       "      <td>Other</td>\n",
       "      <td>Semi Urban</td>\n",
       "      <td>364907.966530</td>\n",
       "      <td>Salaried</td>\n",
       "      <td>Business</td>\n",
       "      <td>371.823757</td>\n",
       "      <td>3</td>\n",
       "      <td>27.310862</td>\n",
       "      <td>...</td>\n",
       "      <td>0.714012</td>\n",
       "      <td>0.551590</td>\n",
       "      <td>1.337541</td>\n",
       "      <td>0.449479</td>\n",
       "      <td>-0.193306</td>\n",
       "      <td>1.210668</td>\n",
       "      <td>40-50</td>\n",
       "      <td>1-3</td>\n",
       "      <td>&gt;10</td>\n",
       "      <td>&gt;180</td>\n",
       "    </tr>\n",
       "    <tr>\n",
       "      <th>4</th>\n",
       "      <td>40.030050</td>\n",
       "      <td>Individual</td>\n",
       "      <td>Male</td>\n",
       "      <td>Rural</td>\n",
       "      <td>341452.607669</td>\n",
       "      <td>Salaried</td>\n",
       "      <td>Student</td>\n",
       "      <td>399.579530</td>\n",
       "      <td>1</td>\n",
       "      <td>26.324409</td>\n",
       "      <td>...</td>\n",
       "      <td>-0.564079</td>\n",
       "      <td>-1.698031</td>\n",
       "      <td>-0.449493</td>\n",
       "      <td>1.343952</td>\n",
       "      <td>1.490472</td>\n",
       "      <td>-1.450349</td>\n",
       "      <td>40-50</td>\n",
       "      <td>0-1</td>\n",
       "      <td>&gt;10</td>\n",
       "      <td>0-30</td>\n",
       "    </tr>\n",
       "  </tbody>\n",
       "</table>\n",
       "<p>5 rows × 65 columns</p>\n",
       "</div>"
      ],
      "text/plain": [
       "         Age   Customer_Type Gender    Location         Income    Occupation  \\\n",
       "0  46.538302      Individual   Male  Semi Urban  278129.258117  Non Salaried   \n",
       "1  55.189847  Non Individual  Other       Rural  377120.106856      Salaried   \n",
       "2  49.343696  Non Individual  Other  Semi Urban  551264.153645      Salaried   \n",
       "3  46.333926      Individual  Other  Semi Urban  364907.966530      Salaried   \n",
       "4  40.030050      Individual   Male       Rural  341452.607669      Salaried   \n",
       "\n",
       "  Type_of_Profession  Credit_Score  Number_of_Products  Tenure_of_Association  \\\n",
       "0       Professional    751.839440                   7              14.217031   \n",
       "1       Professional    460.630685                   5              16.581794   \n",
       "2       Professional    747.567108                   2              13.076358   \n",
       "3           Business    371.823757                   3              27.310862   \n",
       "4            Student    399.579530                   1              26.324409   \n",
       "\n",
       "   ... MAB_CORR_T  SMA_DAYS_T  NPA_TO_STD_T  STD_TO_NPA_T BOUNCE_RATE_T  \\\n",
       "0  ...   0.144340    0.399716      0.444024     -0.444994      1.401075   \n",
       "1  ...   1.632882   -0.426093      0.444024      0.449479      0.400667   \n",
       "2  ...   1.274970    0.599050     -0.449493      1.343952      1.366455   \n",
       "3  ...   0.714012    0.551590      1.337541      0.449479     -0.193306   \n",
       "4  ...  -0.564079   -1.698031     -0.449493      1.343952      1.490472   \n",
       "\n",
       "  AVG_WDL_T  AGE_BAND  PRODUCT_BAND  TENURE_BAND  SMA_DAYS_BAND  \n",
       "0 -0.502521     40-50            >5          >10           >180  \n",
       "1 -0.777612     50-60           3-5          >10         90-180  \n",
       "2 -0.449127     40-50           1-3          >10           >180  \n",
       "3  1.210668     40-50           1-3          >10           >180  \n",
       "4 -1.450349     40-50           0-1          >10           0-30  \n",
       "\n",
       "[5 rows x 65 columns]"
      ]
     },
     "execution_count": 87,
     "metadata": {},
     "output_type": "execute_result"
    }
   ],
   "source": [
    "print(\"\\033[1m\"+\"Data After Pre Processing\"+\"\\033[0m\")\n",
    "df.head()"
   ]
  },
  {
   "cell_type": "code",
   "execution_count": 88,
   "id": "83736bc8",
   "metadata": {},
   "outputs": [
    {
     "name": "stdout",
     "output_type": "stream",
     "text": [
      "\u001b[1mStarting Data Analysis\u001b[0m\n"
     ]
    }
   ],
   "source": [
    "print(\"\\033[1m\"+\"Starting Data Analysis\"+\"\\033[0m\")"
   ]
  },
  {
   "cell_type": "code",
   "execution_count": 89,
   "id": "ff709a0d",
   "metadata": {},
   "outputs": [],
   "source": [
    "df4=pd.DataFrame(df)"
   ]
  },
  {
   "cell_type": "code",
   "execution_count": 90,
   "id": "27a10ae3",
   "metadata": {},
   "outputs": [
    {
     "data": {
      "text/plain": [
       "<Axes: xlabel='Delinquent', ylabel='count'>"
      ]
     },
     "execution_count": 90,
     "metadata": {},
     "output_type": "execute_result"
    },
    {
     "data": {
      "image/png": "[encoded data removed]",
      "text/plain": [
       "<Figure size 640x480 with 1 Axes>"
      ]
     },
     "metadata": {},
     "output_type": "display_data"
    }
   ],
   "source": [
    "sns.countplot(x='Delinquent', data=df4)"
   ]
  },
  {
   "cell_type": "code",
   "execution_count": 91,
   "id": "4f507b42",
   "metadata": {},
   "outputs": [
    {
     "data": {
      "text/plain": [
       "<Axes: xlabel='Delinquent', ylabel='count'>"
      ]
     },
     "execution_count": 91,
     "metadata": {},
     "output_type": "execute_result"
    },
    {
     "data": {
      "image/png": "[encoded data removed]",
      "text/plain": [
       "<Figure size 640x480 with 1 Axes>"
      ]
     },
     "metadata": {},
     "output_type": "display_data"
    }
   ],
   "source": [
    "sns.countplot(x='Delinquent', hue='Gender', data=df4)"
   ]
  },
  {
   "cell_type": "code",
   "execution_count": 92,
   "id": "3834c7f7",
   "metadata": {},
   "outputs": [
    {
     "data": {
      "text/plain": [
       "<Axes: xlabel='Delinquent', ylabel='count'>"
      ]
     },
     "execution_count": 92,
     "metadata": {},
     "output_type": "execute_result"
    },
    {
     "data": {
      "image/png": "[encoded data removed]",
      "text/plain": [
       "<Figure size 640x480 with 1 Axes>"
      ]
     },
     "metadata": {},
     "output_type": "display_data"
    }
   ],
   "source": [
    "sns.countplot(x='Delinquent', hue='AGE_BAND', data=df4)"
   ]
  },
  {
   "cell_type": "code",
   "execution_count": 93,
   "id": "d2eb8c2b",
   "metadata": {},
   "outputs": [
    {
     "data": {
      "text/plain": [
       "<Axes: xlabel='Delinquent', ylabel='count'>"
      ]
     },
     "execution_count": 93,
     "metadata": {},
     "output_type": "execute_result"
    },
    {
     "data": {
      "image/png": "[encoded data removed]",
      "text/plain": [
       "<Figure size 640x480 with 1 Axes>"
      ]
     },
     "metadata": {},
     "output_type": "display_data"
    }
   ],
   "source": [
    "sns.countplot(x='Delinquent', hue='PRODUCT_BAND', data=df4)"
   ]
  },
  {
   "cell_type": "code",
   "execution_count": 94,
   "id": "e2d31c6e",
   "metadata": {},
   "outputs": [
    {
     "data": {
      "text/plain": [
       "<Axes: xlabel='Delinquent', ylabel='count'>"
      ]
     },
     "execution_count": 94,
     "metadata": {},
     "output_type": "execute_result"
    },
    {
     "data": {
      "image/png": "[encoded data removed]",
      "text/plain": [
       "<Figure size 640x480 with 1 Axes>"
      ]
     },
     "metadata": {},
     "output_type": "display_data"
    }
   ],
   "source": [
    "sns.countplot(x='Delinquent', hue='TENURE_BAND', data=df4)"
   ]
  },
  {
   "cell_type": "code",
   "execution_count": 95,
   "id": "4f41ffd6",
   "metadata": {},
   "outputs": [
    {
     "data": {
      "text/plain": [
       "<Axes: xlabel='Delinquent', ylabel='count'>"
      ]
     },
     "execution_count": 95,
     "metadata": {},
     "output_type": "execute_result"
    },
    {
     "data": {
      "image/png": "[encoded data removed]",
      "text/plain": [
       "<Figure size 640x480 with 1 Axes>"
      ]
     },
     "metadata": {},
     "output_type": "display_data"
    }
   ],
   "source": [
    "sns.countplot(x='Delinquent', hue='SMA_DAYS_BAND', data=df4)"
   ]
  },
  {
   "cell_type": "code",
   "execution_count": 96,
   "id": "88f46d26",
   "metadata": {},
   "outputs": [],
   "source": [
    "df4.to_csv(\"processed_data.csv\",index=False)"
   ]
  },
  {
   "cell_type": "code",
   "execution_count": 99,
   "id": "1ff1aecb",
   "metadata": {},
   "outputs": [
    {
     "data": {
      "text/plain": [
       "<bound method NDFrame.describe of               Age   Customer_Type  Gender    Location         Income  \\\n",
       "0       46.538302      Individual    Male  Semi Urban  278129.258117   \n",
       "1       55.189847  Non Individual   Other       Rural  377120.106856   \n",
       "2       49.343696  Non Individual   Other  Semi Urban  551264.153645   \n",
       "3       46.333926      Individual   Other  Semi Urban  364907.966530   \n",
       "4       40.030050      Individual    Male       Rural  341452.607669   \n",
       "...           ...             ...     ...         ...            ...   \n",
       "299995  38.658010  Non Individual   Other  Semi Urban  545587.829640   \n",
       "299996  35.899002      Individual  Female       Metro  504312.309031   \n",
       "299997  50.124111      Individual    Male       Rural  537026.632529   \n",
       "299998  35.468797  Non Individual  Female       Urban  914308.061198   \n",
       "299999  48.127859      Individual  Female       Metro  328323.738966   \n",
       "\n",
       "          Occupation Type_of_Profession  Credit_Score  Number_of_Products  \\\n",
       "0       Non Salaried       Professional    751.839440                   7   \n",
       "1           Salaried       Professional    460.630685                   5   \n",
       "2           Salaried       Professional    747.567108                   2   \n",
       "3           Salaried           Business    371.823757                   3   \n",
       "4           Salaried            Student    399.579530                   1   \n",
       "...              ...                ...           ...                 ...   \n",
       "299995  Non Salaried             Public    415.651287                   1   \n",
       "299996      Salaried             Others    542.711971                   4   \n",
       "299997  Non Salaried             Others    785.940618                   6   \n",
       "299998      Salaried       Professional    369.115053                   8   \n",
       "299999  Non Salaried           Business    713.769601                   1   \n",
       "\n",
       "        Tenure_of_Association  ... MAB_CORR_T  SMA_DAYS_T  NPA_TO_STD_T  \\\n",
       "0                   14.217031  ...   0.144340    0.399716      0.444024   \n",
       "1                   16.581794  ...   1.632882   -0.426093      0.444024   \n",
       "2                   13.076358  ...   1.274970    0.599050     -0.449493   \n",
       "3                   27.310862  ...   0.714012    0.551590      1.337541   \n",
       "4                   26.324409  ...  -0.564079   -1.698031     -0.449493   \n",
       "...                       ...  ...        ...         ...           ...   \n",
       "299995               4.297679  ...   0.052062   -1.432253     -0.449493   \n",
       "299996              28.095859  ...  -1.241495   -0.473554      0.444024   \n",
       "299997               8.955957  ...   0.595395    0.864828     -0.449493   \n",
       "299998              12.347715  ...  -0.969031    1.443844     -0.449493   \n",
       "299999               8.951613  ...   0.228083    0.390224      0.444024   \n",
       "\n",
       "        STD_TO_NPA_T BOUNCE_RATE_T AVG_WDL_T  AGE_BAND  PRODUCT_BAND  \\\n",
       "0          -0.444994      1.401075 -0.502521     40-50            >5   \n",
       "1           0.449479      0.400667 -0.777612     50-60           3-5   \n",
       "2           1.343952      1.366455 -0.449127     40-50           1-3   \n",
       "3           0.449479     -0.193306  1.210668     40-50           1-3   \n",
       "4           1.343952      1.490472 -1.450349     40-50           0-1   \n",
       "...              ...           ...       ...       ...           ...   \n",
       "299995      0.449479     -0.031564 -0.075872     30-40           0-1   \n",
       "299996     -1.339468     -0.361508  0.923554     30-40           3-5   \n",
       "299997      0.449479      0.680672 -1.076900     50-60            >5   \n",
       "299998      1.343952     -0.035337 -0.484980     30-40            >5   \n",
       "299999     -0.444994     -0.816798  0.804288     40-50           0-1   \n",
       "\n",
       "        TENURE_BAND  SMA_DAYS_BAND  \n",
       "0               >10           >180  \n",
       "1               >10         90-180  \n",
       "2               >10           >180  \n",
       "3               >10           >180  \n",
       "4               >10           0-30  \n",
       "...             ...            ...  \n",
       "299995          3-5          30-90  \n",
       "299996          >10         90-180  \n",
       "299997         5-10           >180  \n",
       "299998          >10           >180  \n",
       "299999         5-10           >180  \n",
       "\n",
       "[300000 rows x 65 columns]>"
      ]
     },
     "execution_count": 99,
     "metadata": {},
     "output_type": "execute_result"
    }
   ],
   "source": [
    "df4.describe"
   ]
  },
  {
   "cell_type": "code",
   "execution_count": 101,
   "id": "85288151",
   "metadata": {},
   "outputs": [],
   "source": [
    "df5=pd.DataFrame(df4)\n",
    "\n",
    "df5['Delinquent'] = df5['Delinquent'].replace({'Yes':1,'No':0})"
   ]
  },
  {
   "cell_type": "code",
   "execution_count": 122,
   "id": "3fe35ab6",
   "metadata": {},
   "outputs": [],
   "source": [
    "\n",
    "\n",
    "feature,target = 'AGE_BAND','Delinquent'\n",
    "df_woe_iv = (pd.crosstab(df5[feature],df5[target],\n",
    "                      normalize='columns')\n",
    "             .assign(woe=lambda df5x: np.log(df5x[1] / df5x[0]))\n",
    "             .assign(iv=lambda df5x: np.sum(df5x['woe']*\n",
    "                                           (df5x[1]-df5x[0]))))\n"
   ]
  },
  {
   "cell_type": "code",
   "execution_count": null,
   "id": "0a1d9d3d",
   "metadata": {},
   "outputs": [],
   "source": []
  }
 ],
 "metadata": {
  "kernelspec": {
   "display_name": "Python 3 (ipykernel)",
   "language": "python",
   "name": "python3"
  },
  "language_info": {
   "codemirror_mode": {
    "name": "ipython",
    "version": 3
   },
   "file_extension": ".py",
   "mimetype": "text/x-python",
   "name": "python",
   "nbconvert_exporter": "python",
   "pygments_lexer": "ipython3",
   "version": "3.11.2"
  }
 },
 "nbformat": 4,
 "nbformat_minor": 5
}
