{
 "cells": [
  {
   "cell_type": "code",
   "execution_count": 101,
   "id": "59f24623",
   "metadata": {},
   "outputs": [
    {
     "data": {
      "text/html": [
       "\n",
       "<style>\n",
       ".title-bar {\n",
       "    background-color: #4CAF50;\n",
       "    color: white;\n",
       "    text-align: center;\n",
       "    padding: 10px 0;\n",
       "    font-size: 20px;\n",
       "    font-weight: bold;\n",
       "}\n",
       ".title-bar1 {\n",
       "   background-color: #4CAF50;\n",
       "    color: white;\n",
       "    text-align: center;\n",
       "    padding: 5px 0;\n",
       "    font-size: 10px;\n",
       "    font-weight: bold;\n",
       "   \n",
       "}\n",
       ".sidebar {\n",
       "    background-color: #f2f2f2;\n",
       "    width: 200px;\n",
       "    padding: 10px;\n",
       "    position: fixed;\n",
       "    height: 100%;\n",
       "    overflow: auto;\n",
       "}\n",
       ".button {\n",
       "     background-color: #008CBA;\n",
       "    color: white;\n",
       "    padding: 5px 20px 15px 20px; /* More padding at the bottom */\n",
       "    text-align: center;\n",
       "    text-decoration: none;\n",
       "    display: inline-block;\n",
       "    font-size: 16px;\n",
       "    margin: 4px 2px;\n",
       "    cursor: pointer;\n",
       "    border-radius: 8px;\n",
       "    border: none;\n",
       "    min-width: 350px; /* Minimum width */\n",
       "}\n",
       ".button:hover {\n",
       "    background-color: #005f73;\n",
       "}\n",
       "</style>\n",
       "<div class='title-bar'>Smart Delinquency Strategist - Predict Prescribe & Adapt</div>"
      ],
      "text/plain": [
       "<IPython.core.display.HTML object>"
      ]
     },
     "metadata": {},
     "output_type": "display_data"
    },
    {
     "data": {
      "text/html": [
       "<h2>Steps for Predicting and accountwise prescriptive action</h2>"
      ],
      "text/plain": [
       "<IPython.core.display.HTML object>"
      ]
     },
     "metadata": {},
     "output_type": "display_data"
    },
    {
     "data": {
      "application/vnd.jupyter.widget-view+json": {
       "model_id": "10f5fc3aeece4b05a1e6be6c68c43d9e",
       "version_major": 2,
       "version_minor": 0
      },
      "text/plain": [
       "Button(button_style='info', description='Synthetic_data_generation.ipynb', style=ButtonStyle(), _dom_classes=(…"
      ]
     },
     "metadata": {},
     "output_type": "display_data"
    },
    {
     "data": {
      "application/vnd.jupyter.widget-view+json": {
       "model_id": "3f47cea4f6a84d47964a70a072490b3f",
       "version_major": 2,
       "version_minor": 0
      },
      "text/plain": [
       "Button(button_style='info', description='Data_Pre_Processing_and_Data_Analysis.ipynb', style=ButtonStyle(), _d…"
      ]
     },
     "metadata": {},
     "output_type": "display_data"
    },
    {
     "data": {
      "application/vnd.jupyter.widget-view+json": {
       "model_id": "bfbeb5bdf27d4d3bab047539aeeb86b6",
       "version_major": 2,
       "version_minor": 0
      },
      "text/plain": [
       "Button(button_style='info', description='Model_Building_And_Selection.ipynb', style=ButtonStyle(), _dom_classe…"
      ]
     },
     "metadata": {},
     "output_type": "display_data"
    },
    {
     "data": {
      "application/vnd.jupyter.widget-view+json": {
       "model_id": "e5fb7d33baa14d1b961849c2c19b0fd0",
       "version_major": 2,
       "version_minor": 0
      },
      "text/plain": [
       "Button(button_style='info', description='Prescriptive_modelling1.ipynb', style=ButtonStyle(), _dom_classes=('b…"
      ]
     },
     "metadata": {},
     "output_type": "display_data"
    },
    {
     "data": {
      "application/vnd.jupyter.widget-view+json": {
       "model_id": "83cd598ade0449139bc2cbe827776457",
       "version_major": 2,
       "version_minor": 0
      },
      "text/plain": [
       "Button(button_style='info', description='Calculate_Man_Power.ipynb', style=ButtonStyle(), _dom_classes=('butto…"
      ]
     },
     "metadata": {},
     "output_type": "display_data"
    },
    {
     "data": {
      "application/vnd.jupyter.widget-view+json": {
       "model_id": "15cbb405d0ed45fab9db5699b5b5a161",
       "version_major": 2,
       "version_minor": 0
      },
      "text/plain": [
       "Output()"
      ]
     },
     "metadata": {},
     "output_type": "display_data"
    }
   ],
   "source": [
    "import nbformat\n",
    "from nbconvert.preprocessors import ExecutePreprocessor\n",
    "from nbconvert import HTMLExporter\n",
    "import ipywidgets as widgets\n",
    "from IPython.display import display, HTML\n",
    "import pandas as pd\n",
    "import numpy as np\n",
    "import matplotlib.pyplot as plt\n",
    "from ipywidgets import FloatText, Button, Output, VBox, HBox, Layout\n",
    "\n",
    "# Custom CSS for styling\n",
    "style = \"\"\"\n",
    "<style>\n",
    ".title-bar {\n",
    "    background-color: #4CAF50;\n",
    "    color: white;\n",
    "    text-align: center;\n",
    "    padding: 10px 0;\n",
    "    font-size: 20px;\n",
    "    font-weight: bold;\n",
    "}\n",
    ".title-bar1 {\n",
    "   background-color: #4CAF50;\n",
    "    color: white;\n",
    "    text-align: center;\n",
    "    padding: 5px 0;\n",
    "    font-size: 10px;\n",
    "    font-weight: bold;\n",
    "   \n",
    "}\n",
    ".sidebar {\n",
    "    background-color: #f2f2f2;\n",
    "    width: 200px;\n",
    "    padding: 10px;\n",
    "    position: fixed;\n",
    "    height: 100%;\n",
    "    overflow: auto;\n",
    "}\n",
    ".button {\n",
    "     background-color: #008CBA;\n",
    "    color: white;\n",
    "    padding: 5px 20px 15px 20px; /* More padding at the bottom */\n",
    "    text-align: center;\n",
    "    text-decoration: none;\n",
    "    display: inline-block;\n",
    "    font-size: 16px;\n",
    "    margin: 4px 2px;\n",
    "    cursor: pointer;\n",
    "    border-radius: 8px;\n",
    "    border: none;\n",
    "    min-width: 350px; /* Minimum width */\n",
    "}\n",
    ".button:hover {\n",
    "    background-color: #005f73;\n",
    "}\n",
    "</style>\n",
    "\"\"\"\n",
    "\n",
    "# Title and Sidebar\n",
    "title_html = \"<div class='title-bar'>Smart Delinquency Strategist - Predict Prescribe & Adapt</div>\"\n",
    "display(HTML(style + title_html ))\n",
    "\n",
    "\n",
    "body_html = \"<h2>Steps for Predicting and accountwise prescriptive action</h2>\"\n",
    "display(HTML(body_html ))\n",
    "\n",
    "\n",
    "# Function to execute a notebook and return its output as HTML\n",
    "def execute_notebook(notebook_path):\n",
    "    with open(notebook_path) as f:\n",
    "        nb = nbformat.read(f, as_version=4)\n",
    "\n",
    "    ep = ExecutePreprocessor(timeout=60000, kernel_name='python3')\n",
    "    try:\n",
    "        ep.preprocess(nb, {'metadata': {'path': './'}})\n",
    "    except Exception as e:\n",
    "        return f\"<p>Error executing the notebook: {str(e)}</p>\"\n",
    "\n",
    "    html_exporter = HTMLExporter()\n",
    "    html_exporter.exclude_input = True\n",
    "    (body, resources) = html_exporter.from_notebook_node(nb)\n",
    "\n",
    "    return body\n",
    "\n",
    "\n",
    "\n",
    "\n",
    "# Create a button for each notebook and set up the event handler\n",
    "notebooks = [\"Synthetic_data_generation.ipynb\", \n",
    "             \"Data_Pre_Processing_and_Data_Analysis.ipynb\", \n",
    "             \"Model_Building_And_Selection.ipynb\",\n",
    "             \"Prescriptive_modelling1.ipynb\",\"Calculate_Man_Power.ipynb\"]\n",
    "\n",
    "output = widgets.Output()\n",
    "\n",
    "def on_button_clicked(b):\n",
    "    with output:\n",
    "        output.clear_output()\n",
    "        html_content = execute_notebook(b.description)\n",
    "        out_html = \"<h2>Output for Steps Executed</h2>\"\n",
    "        display(HTML(out_html ))\n",
    "        display(HTML(html_content))\n",
    "        \n",
    "\n",
    "buttons = [widgets.Button(description=nb, button_style='info') for nb in notebooks]\n",
    "for button in buttons:\n",
    "    button.add_class('button')  # Apply custom CSS class\n",
    "    button.on_click(on_button_clicked)\n",
    "    display(button)\n",
    "\n",
    "# Output area for displaying notebook results\n",
    "\n",
    "display(output)\n"
   ]
  },
  {
   "cell_type": "markdown",
   "id": "2241e6a5",
   "metadata": {},
   "source": [
    "### Constraint responsive modelling\n",
    "#### 1. After running the above 5 steps, the man power requirement for the actions mentioned in the prescriptive modelling will be displayed for each zone\n",
    "#### 2. In the below boxes , the available man power for each zones should be entered\n",
    "#### 3. The model will respond to the availabe man power and reassign the actions within the availabel man power\n"
   ]
  },
  {
   "cell_type": "code",
   "execution_count": 102,
   "id": "26ba76da",
   "metadata": {},
   "outputs": [],
   "source": [
    "\n",
    "manpower_requirements = {\n",
    "    'SMS': 0.02,  \n",
    "    'Calling': 0.20,\n",
    "    'Notice': 1,\n",
    "    'Direct_Visit': 2\n",
    "}"
   ]
  },
  {
   "cell_type": "code",
   "execution_count": 105,
   "id": "c9d4ffdb",
   "metadata": {},
   "outputs": [],
   "source": [
    "def revise_actions4(df, available_manpower):\n",
    "    df_sorted = df.sort_values(by=[ 'Balance_T'], ascending=[False])\n",
    "\n",
    "    df_zones = {\n",
    "        'North': df_sorted[df_sorted['zone'] == 'North'],\n",
    "        'South': df_sorted[df_sorted['zone'] == 'South'],\n",
    "        'East': df_sorted[df_sorted['zone'] == 'East'],\n",
    "        'West': df_sorted[df_sorted['zone'] == 'West']\n",
    "    }\n",
    "\n",
    "    remaining_manpower = {}\n",
    "\n",
    "    for zone, df_zone in df_zones.items():\n",
    "        manpower_limit = 0.85 * available_manpower[zone]\n",
    "        original_manpower_limit = manpower_limit\n",
    "\n",
    "        total_manpower_required = df_zone['manpower_required'].sum()\n",
    "        if available_manpower[zone] >= total_manpower_required:\n",
    "            df_zone['final_action'] = df_zone['best_action']\n",
    "            df_zone['manpower_final'] = df_zone['manpower_required']\n",
    "        else:\n",
    "            df_zone = df_zone.sort_values(by='Balance_T', ascending=False)\n",
    "            for index, row in df_zone.iterrows():\n",
    "                if manpower_limit >= row['manpower_required']:\n",
    "                    df_zone.at[index, 'final_action'] = row['best_action']\n",
    "                    df_zone.at[index, 'manpower_final'] = row['manpower_required']\n",
    "                    manpower_limit -= row['manpower_required']\n",
    "                else:\n",
    "                    break\n",
    "\n",
    "            remaining_manpower[zone] = available_manpower[zone] - (original_manpower_limit - manpower_limit)\n",
    "\n",
    "           \n",
    "            for index, row in df_zone[df_zone['final_action'].isnull()].iterrows():\n",
    "                df_zone.at[index, 'final_action'] = 'SMS'\n",
    "                df_zone.at[index, 'manpower_final'] = manpower_requirements['SMS']\n",
    "                remaining_manpower[zone] -= manpower_requirements['SMS']\n",
    "                if remaining_manpower[zone] < 0:\n",
    "                    raise ValueError(f\"Manpower requirements exceed available manpower in {zone}\")\n",
    "\n",
    "           \n",
    "            for index, row in df_zone[df_zone['final_action'] == 'SMS'].sort_values(by='Balance_T', ascending=False).iterrows():\n",
    "                if row['best_action'] == 'SMS':\n",
    "                    continue  \n",
    "\n",
    "                actions = ['SMS', 'Calling', 'Notice', 'Direct_Visit']\n",
    "                action_uplifts = {action: row[f'uplift_{action}'] for action in actions if action != row['best_action']}\n",
    "                second_best_action = max(action_uplifts, key=action_uplifts.get)\n",
    "\n",
    "                if remaining_manpower[zone] >= manpower_requirements[second_best_action]:\n",
    "                    df_zone.at[index, 'final_action'] = second_best_action\n",
    "                    df_zone.at[index, 'manpower_final'] = manpower_requirements[second_best_action]\n",
    "                    remaining_manpower[zone] -= manpower_requirements[second_best_action]\n",
    "                else:\n",
    "                   \n",
    "                    df_zone.at[index, 'final_action'] = 'SMS'\n",
    "                    df_zone.at[index, 'manpower_final'] = manpower_requirements['SMS']\n",
    "\n",
    "        df_zones[zone] = df_zone\n",
    "\n",
    "    df_sorted = pd.concat(df_zones.values())\n",
    "    df_sorted.to_csv(\"final_output.csv\")\n",
    "    return df_sorted\n",
    "\n",
    "\n"
   ]
  },
  {
   "cell_type": "code",
   "execution_count": 106,
   "id": "072facb9",
   "metadata": {},
   "outputs": [
    {
     "data": {
      "application/vnd.jupyter.widget-view+json": {
       "model_id": "4a353f6f24734b3a870d9aa36c065a18",
       "version_major": 2,
       "version_minor": 0
      },
      "text/plain": [
       "VBox(children=(VBox(children=(HBox(children=(FloatText(value=0.0, description='North Available Manpower:'),)),…"
      ]
     },
     "metadata": {},
     "output_type": "display_data"
    }
   ],
   "source": [
    "\n",
    "    reassign_button = Button(description='Reassign Actions')\n",
    "    reassign_button.add_class('button')\n",
    "    output = Output()\n",
    "    \n",
    "\n",
    "    manpower_widgets = {zone: FloatText(value=0.0, description=f'{zone} Available Manpower:') for zone in ['North', 'South', 'East', 'West']}\n",
    "\n",
    "\n",
    "   \n",
    "\n",
    "    def on_reassign_button_clicked(b):\n",
    "        df = pd.read_csv('final_oms_data.csv')  \n",
    "        available_manpower = {zone: widget.value for zone, widget in manpower_widgets.items()}\n",
    "        revised_df = revise_actions4(df,available_manpower)\n",
    "\n",
    "\n",
    "        with output:\n",
    "            output.clear_output(wait=True)\n",
    "            display(revised_df.head())\n",
    "\n",
    "                       \n",
    "             # Calculate the total manpower required and used for each zone\n",
    "            total_manpower_original = revised_df.groupby('zone')['manpower_required'].sum()\n",
    "            total_manpower_final = revised_df.groupby('zone')['manpower_final'].sum()\n",
    "\n",
    "        # Create a DataFrame for comparison\n",
    "            comparison_df = pd.DataFrame({\n",
    "            'Zone': total_manpower_original.index,\n",
    "            'Original Manpower Required': total_manpower_original.values,\n",
    "            'Available Manpower': [available_manpower[zone] for zone in total_manpower_original.index],\n",
    "            'Final Manpower Used': total_manpower_final.values\n",
    "            })\n",
    "\n",
    "      # Display the comparison table\n",
    "            display(comparison_df)\n",
    "        \n",
    "            zones = ['North', 'South', 'East', 'West']\n",
    "            for zone in zones:\n",
    "                plt.figure(figsize=(10, 5))\n",
    "\n",
    "                # Get counts of final_action and best_action for the zone\n",
    "                final_action_counts = revised_df[revised_df['zone'] == zone]['final_action'].value_counts()\n",
    "                best_action_counts = revised_df[revised_df['zone'] == zone]['best_action'].value_counts()\n",
    "\n",
    "            # Create a DataFrame for plotting\n",
    "                action_comparison_df = pd.DataFrame({\n",
    "                'Final Action': final_action_counts,\n",
    "                'Best Action': best_action_counts\n",
    "                }).fillna(0)\n",
    "\n",
    "            # Plot\n",
    "                action_comparison_df.plot(kind='bar', color=['lightgreen', 'lightblue'])\n",
    "                plt.title(f'Distribution of Actions in {zone} Zone')\n",
    "                plt.xlabel('Actions')\n",
    "                plt.ylabel('Count')\n",
    "                plt.show()\n",
    "            \n",
    "\n",
    "    reassign_button.on_click(on_reassign_button_clicked)\n",
    "\n",
    "\n",
    "    \n",
    "    widgets_layout = VBox([HBox([manpower_widgets[zone]]) for zone in ['North', 'South', 'East', 'West']] + [reassign_button])\n",
    "    display(VBox([widgets_layout, output]))\n",
    "    \n",
    "    "
   ]
  },
  {
   "cell_type": "code",
   "execution_count": null,
   "id": "8c4955e4",
   "metadata": {},
   "outputs": [],
   "source": []
  },
  {
   "cell_type": "code",
   "execution_count": null,
   "id": "7d0ac7fa",
   "metadata": {},
   "outputs": [],
   "source": []
  }
 ],
 "metadata": {
  "kernelspec": {
   "display_name": "Python 3 (ipykernel)",
   "language": "python",
   "name": "python3"
  },
  "language_info": {
   "codemirror_mode": {
    "name": "ipython",
    "version": 3
   },
   "file_extension": ".py",
   "mimetype": "text/x-python",
   "name": "python",
   "nbconvert_exporter": "python",
   "pygments_lexer": "ipython3",
   "version": "3.11.2"
  }
 },
 "nbformat": 4,
 "nbformat_minor": 5
}
